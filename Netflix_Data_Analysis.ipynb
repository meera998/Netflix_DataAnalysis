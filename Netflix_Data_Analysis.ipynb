{
  "nbformat": 4,
  "nbformat_minor": 0,
  "metadata": {
    "colab": {
      "name": "Netflix_Data_Analysis.ipynb",
      "provenance": [],
      "collapsed_sections": [],
      "include_colab_link": true
    },
    "kernelspec": {
      "name": "python3",
      "display_name": "Python 3"
    },
    "language_info": {
      "name": "python"
    }
  },
  "cells": [
    {
      "cell_type": "markdown",
      "metadata": {
        "id": "view-in-github",
        "colab_type": "text"
      },
      "source": [
        "<a href=\"https://colab.research.google.com/github/meera998/Netflix_DataAnalysis/blob/main/Netflix_Data_Analysis.ipynb\" target=\"_parent\"><img src=\"https://colab.research.google.com/assets/colab-badge.svg\" alt=\"Open In Colab\"/></a>"
      ]
    },
    {
      "cell_type": "markdown",
      "source": [
        "# A surface analysis of Netflix's Dataset\n",
        "\n",
        "Through this project, we will be analyzing the [Netflix Movies and TV Shows ](https://raw.githubusercontent.com/Balenm/NF_DAnalysis/main/data_source/netflix_titles.csv) dataset to identify: \n",
        "\n",
        "* **A snapshot:**\n",
        "> * Distribution of types of movies and series </br>\n",
        "> * Distribution of genres </br>\n",
        "> * Distribution of maturity ratings </br>\n",
        "> * Movies/series added per month per year </br>\n",
        "> * Top performing directors</br>\n",
        "* **Countries with highest number of movie/series production**\n",
        "* **The top 5 actors by the number of times they performed in a movies/series**\n",
        "* **What are the top genres in each country?**\n",
        "* **List of the movies that have \"happy\" in their descriptions**\n",
        "* **Top three genres by their accumulated durations**\n",
        "* **Which movies has the longest duration**\n",
        "* **List 5 longest movies and series**\n",
        "* **Which series has the highest number of seasons**\n",
        "* **Count the number of movies and TV series for each year**\n",
        "* **Which movies has the longest duration**\n",
        "* **List 3 movies and TV series which have the highest number of cast**\n",
        "* **Show the total number of ,movies and TV series in each country**\n",
        "* **Count the movies which relate to magic,animal,history,games and marin**\n",
        "\n",
        "\n",
        "\n",
        "\n",
        "\n"
      ],
      "metadata": {
        "id": "nXCz0hEG0e68"
      }
    },
    {
      "cell_type": "markdown",
      "source": [
        "Importing libraries and the dataset"
      ],
      "metadata": {
        "id": "HmUzfS02ECgz"
      }
    },
    {
      "cell_type": "code",
      "source": [
        "import numpy as np\n",
        "import pandas as pd\n",
        "import matplotlib.pyplot as plt\n",
        "import seaborn as sns\n",
        "import missingno as msno\n",
        "\n",
        "url=\"https://raw.githubusercontent.com/Balenm/NF_DAnalysis/main/data_source/netflix_titles.csv\"\n",
        "netflix_data = pd.read_csv(url)"
      ],
      "metadata": {
        "id": "c_i3IlCGa037"
      },
      "execution_count": null,
      "outputs": []
    },
    {
      "cell_type": "markdown",
      "source": [
        "Finding and deduplicating the list of the movies\n",
        "\n"
      ],
      "metadata": {
        "id": "S1nKs8_yD0S7"
      }
    },
    {
      "cell_type": "code",
      "source": [
        "#print (netflix_data.nunique()) #printing the unique values out of 8807 rows\n",
        "\n",
        "netflix_data = netflix_data.replace(\"\", np.nan) #Changing all the empty data fields to \"nan\"\n",
        "netflix_data.sort_values(by=[\"date_added\"], ascending=True,inplace=True)\n",
        "netflix_data.drop_duplicates(subset=['description'],keep=\"last\", inplace=True)\n",
        "netflix_clean= netflix_data.sort_values(by=[\"description\"], ascending=True)\n",
        "\n",
        "# netflix_clean.loc[netflix_clean.duplicated(subset=['description'],keep=False), :]  Showing duplicate movies\n",
        "#duplicated_NF_ALL.to_csv('file_name.csv', encoding='utf-8') Write to an external CSV file"
      ],
      "metadata": {
        "id": "qv5AbpfeCqsK"
      },
      "execution_count": null,
      "outputs": []
    },
    {
      "cell_type": "markdown",
      "source": [
        "We are now, exploring the missing values across the dataset and normalize them. To do that, we start by counting the number of missing valuess for each observation as follows: "
      ],
      "metadata": {
        "id": "meH0Xqh013vK"
      }
    },
    {
      "cell_type": "code",
      "source": [
        "print(round((netflix_clean.isnull().sum()/8775)*100,4)) #percentage of the null values per each observation\n",
        "msno.bar(netflix_clean,figsize=(9.9, 6),fontsize=11)\n",
        "\n",
        "#print(netflix_clean.isnull().sum()) to show the total number of missing values per each observation.\n",
        "#sns.heatmap(netflix_clean.isna().transpose(), cmap=\"YlGnBu\", cbar_kws={'label': 'Missing Data'})\n",
        "#plt.savefig(\"visualizing_missing_data_with_heatmap_Seaborn_Python.png\", dpi=100)"
      ],
      "metadata": {
        "colab": {
          "base_uri": "https://localhost:8080/",
          "height": 694
        },
        "id": "IowFbJE9gFjQ",
        "outputId": "65e4d8fa-c022-400e-abb5-7553064fa0cd"
      },
      "execution_count": null,
      "outputs": [
        {
          "output_type": "stream",
          "name": "stdout",
          "text": [
            "show_id          0.0000\n",
            "type             0.0000\n",
            "title            0.0000\n",
            "director        29.9487\n",
            "cast             9.3675\n",
            "country          9.3675\n",
            "date_added       0.1140\n",
            "release_year     0.0000\n",
            "rating           0.0456\n",
            "duration         0.0342\n",
            "listed_in        0.0000\n",
            "description      0.0000\n",
            "dtype: float64\n"
          ]
        },
        {
          "output_type": "execute_result",
          "data": {
            "text/plain": [
              "<matplotlib.axes._subplots.AxesSubplot at 0x7fefac5c3610>"
            ]
          },
          "metadata": {},
          "execution_count": 178
        },
        {
          "output_type": "display_data",
          "data": {
            "text/plain": [
              "<Figure size 712.8x432 with 3 Axes>"
            ],
            "image/png": "[encoded data removed]"
          },
          "metadata": {
            "needs_background": "light"
          }
        }
      ]
    },
    {
      "cell_type": "markdown",
      "source": [
        "As shown above, we have most of the missing values falling under the \"director\", \"cast\" and \"country\" observations. Now let's understand the distribution of the missing values over data-set"
      ],
      "metadata": {
        "id": "GX4uTXyxDgIr"
      }
    },
    {
      "cell_type": "code",
      "source": [
        "msno.matrix(netflix_clean,figsize=(10, 6), fontsize=11,)"
      ],
      "metadata": {
        "colab": {
          "base_uri": "https://localhost:8080/",
          "height": 447
        },
        "id": "24rkb_F5gx4T",
        "outputId": "286416d5-0411-459b-d24e-920ed87530b8"
      },
      "execution_count": null,
      "outputs": [
        {
          "output_type": "execute_result",
          "data": {
            "text/plain": [
              "<matplotlib.axes._subplots.AxesSubplot at 0x7fefaad1d150>"
            ]
          },
          "metadata": {},
          "execution_count": 179
        },
        {
          "output_type": "display_data",
          "data": {
            "text/plain": [
              "<Figure size 720x432 with 2 Axes>"
            ],
            "image/png": "[encoded data removed]"
          },
          "metadata": {
            "needs_background": "light"
          }
        }
      ]
    },
    {
      "cell_type": "markdown",
      "source": [
        "The values are not evenly distributed over the data-ser, and they are only occured in some observations. The final test we are using to determine the type of the missing values (MCAR, MNAR, MAR) is to understand the correlation of the attributes with missing values."
      ],
      "metadata": {
        "id": "2OoJt9l6N8K-"
      }
    },
    {
      "cell_type": "code",
      "source": [
        "msno.heatmap(netflix_data[[\"director\",\"cast\",\"country\"]], figsize=(10.2, 6), fontsize=11, cmap=\"plasma\")"
      ],
      "metadata": {
        "colab": {
          "base_uri": "https://localhost:8080/",
          "height": 423
        },
        "id": "57fKkFWvg0IR",
        "outputId": "5c4ea57e-a8e4-4e96-bb38-9e3ac5c6c68d"
      },
      "execution_count": null,
      "outputs": [
        {
          "output_type": "execute_result",
          "data": {
            "text/plain": [
              "<matplotlib.axes._subplots.AxesSubplot at 0x7fefabfba790>"
            ]
          },
          "metadata": {},
          "execution_count": 180
        },
        {
          "output_type": "display_data",
          "data": {
            "text/plain": [
              "<Figure size 734.4x432 with 2 Axes>"
            ],
            "image/png": "[encoded data removed]"
          },
          "metadata": {
            "needs_background": "light"
          }
        }
      ]
    },
    {
      "cell_type": "markdown",
      "source": [
        "As per the above hypothesis, we can understand that the values are Missing Completely At Random (MCAR). This means that, we couldn't find any correlation between any of the observations. This will help us to fill the missing data as below: \n",
        "\n",
        "*   Changing Missing values in \"director\", \"cast\" and \"country\" to unknown\n",
        "*   Filling the missing data in \"rating\" by taking a mod of the series\n",
        "*   Filling mising values of the \"date_added\" and \"duration\" by taking a median of the series. \n",
        "\n",
        "\n"
      ],
      "metadata": {
        "id": "SzAxbiHyUS-h"
      }
    },
    {
      "cell_type": "code",
      "source": [
        "#Setting unknown values to \n",
        "netflix_clean['cast'].replace(np.nan, 'Unknown',inplace  = True)\n",
        "netflix_clean['director'].replace(np.nan, 'Unknown',inplace  = True)\n",
        "netflix_clean['country'].replace(np.nan, 'Unknown',inplace  = True)\n",
        "\n",
        "#Filling the missing values of the most common value of the rating observation\n",
        "netflix_clean['rating'].fillna(netflix_clean['rating'].mode()[0], inplace=True) #We can categorize the movies by their type, then we can use bFIll or Ffill\n",
        "\n",
        "#To set the median value of the date_added we have to first change the datatype from string to datetime. Then, we \n",
        "netflix_clean[\"date_added\"] = netflix_clean[\"date_added\"].astype('datetime64[ns]')\n",
        "netflix_clean['date_added'].fillna(netflix_clean['date_added'].mode()[0], inplace=True) #The reason that we chose Mode is because, we have outliers and our results will be inaccurate by using mean. \n",
        "\n",
        "# We will be using the most common value for the three movies that are missing the duration.\n",
        "netflix_clean['duration'].fillna(netflix_clean['duration'].mode()[0], inplace=True)\n"
      ],
      "metadata": {
        "id": "qvJnCzKnVcVz"
      },
      "execution_count": null,
      "outputs": []
    },
    {
      "cell_type": "markdown",
      "source": [
        "Now, let's verify if there is any missing value remaining"
      ],
      "metadata": {
        "id": "-U2LIUzb8aQI"
      }
    },
    {
      "cell_type": "code",
      "source": [
        "netflix_clean.isnull().sum()"
      ],
      "metadata": {
        "colab": {
          "base_uri": "https://localhost:8080/"
        },
        "id": "9XP4iG0jwGbf",
        "outputId": "7cda81dd-ed85-4945-9b5d-724220bc57da"
      },
      "execution_count": null,
      "outputs": [
        {
          "output_type": "execute_result",
          "data": {
            "text/plain": [
              "show_id         0\n",
              "type            0\n",
              "title           0\n",
              "director        0\n",
              "cast            0\n",
              "country         0\n",
              "date_added      0\n",
              "release_year    0\n",
              "rating          0\n",
              "duration        0\n",
              "listed_in       0\n",
              "description     0\n",
              "dtype: int64"
            ]
          },
          "metadata": {},
          "execution_count": 182
        }
      ]
    }
  ]
}