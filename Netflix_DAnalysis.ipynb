{
  "cells": [
    {
      "cell_type": "markdown",
      "metadata": {
        "id": "view-in-github",
        "colab_type": "text"
      },
      "source": [
        "<a href=\"https://colab.research.google.com/github/meera998/Netflix_DataAnalysis/blob/main/Netflix_DAnalysis.ipynb\" target=\"_parent\"><img src=\"https://colab.research.google.com/assets/colab-badge.svg\" alt=\"Open In Colab\"/></a>"
      ]
    },
    {
      "cell_type": "markdown",
      "metadata": {
        "id": "nXCz0hEG0e68"
      },
      "source": [
        "# A surface analysis of Netflix's Dataset\n",
        "\n",
        "Through this project, we will be analyzing the [Netflix Movies and TV Shows ](http://https://www.kaggle.com/datasets/shivamb/netflix-shows) dataset to identify: \n",
        "\n",
        "* **A snapshot:**\n",
        "> * Distribution of types of movies and series </br>\n",
        "> * Distribution of genres </br>\n",
        "> * Distribution of maturity ratings </br>\n",
        "> * Movies/series added per month per year </br>\n",
        "> * Top performing directors</br>\n",
        "* **Countries with highest number of movie/series production**\n",
        "* **The top 5 actors by the number of times they performed in a movies/series**\n",
        "* **What are the top genres in each country?**\n",
        "* **List of the movies that have \"happy\" in their descriptions**\n",
        "* **Top three genres by their accumulated durations**\n",
        "* **Which movies has the longest duration**\n",
        "* **List 5 longest movies and series**\n",
        "* **Which series has the highest number of seasons**\n",
        "* **Count the number of movies and TV series for each year**\n",
        "* **Which movies has the longest duration**\n",
        "* **List 3 movies and TV series which have the highest number of cast**\n",
        "* **Show the total number of ,movies and TV series in each country**\n",
        "* **Count the movies which relate to magic,animal,history,games and marin**\n",
        "\n",
        "\n",
        "\n",
        "\n",
        "\n"
      ]
    },
    {
      "cell_type": "markdown",
      "metadata": {
        "id": "hfJL1TC1a5C4",
        "outputId": "81d9a750-692d-4b9b-e186-79547830246d"
      },
      "source": [
        "### importing libraries "
      ]
    },
    {
      "cell_type": "code",
      "execution_count": 10,
      "metadata": {
        "id": "Yn9_-qcQ3lvY"
      },
      "outputs": [],
      "source": [
        "import numpy as np\n",
        "import pandas as pd\n",
        "import seaborn as sns\n",
        "import matplotlib.pyplot as plt\n",
        "import missingno as msno\n",
        "\n",
        "%matplotlib inline"
      ]
    },
    {
      "cell_type": "markdown",
      "metadata": {
        "id": "mYYJ6t1pa6I_",
        "outputId": "5d6307e0-1a74-4abf-8131-95afc90b4c7b"
      },
      "source": [
        "### importing CSV file"
      ]
    },
    {
      "cell_type": "code",
      "execution_count": 11,
      "metadata": {
        "id": "X6YoltOWhoTS"
      },
      "outputs": [],
      "source": [
        "NT_df=pd.read_csv(\"https://raw.githubusercontent.com/meera998/Netflix_DataAnalysis/main/Source_Code/netflix_titles.csv\")"
      ]
    },
    {
      "cell_type": "code",
      "execution_count": 12,
      "metadata": {
        "id": "RZk76DCE-_Tv",
        "outputId": "95047705-0a84-4ea7-91c7-6f514577ae8d",
        "colab": {
          "base_uri": "https://localhost:8080/"
        }
      },
      "outputs": [
        {
          "output_type": "execute_result",
          "data": {
            "text/plain": [
              "show_id         8807\n",
              "type               2\n",
              "title           8807\n",
              "director        4528\n",
              "cast            7692\n",
              "country          748\n",
              "date_added      1767\n",
              "release_year      74\n",
              "rating            17\n",
              "duration         220\n",
              "listed_in        514\n",
              "description     8775\n",
              "dtype: int64"
            ]
          },
          "metadata": {},
          "execution_count": 12
        }
      ],
      "source": [
        "NT_df.nunique()"
      ]
    },
    {
      "cell_type": "markdown",
      "source": [
        "##First of all we will be working on ***data cleaning*** so we can have an accurate Data Analysis"
      ],
      "metadata": {
        "id": "MGeMT4ke6FP0"
      }
    },
    {
      "cell_type": "markdown",
      "metadata": {
        "id": "f6INwRbh2k3c"
      },
      "source": [
        "###1. Handling duplicated data "
      ]
    },
    {
      "cell_type": "code",
      "execution_count": 13,
      "metadata": {
        "id": "Umr0P7hy2k3d"
      },
      "outputs": [],
      "source": [
        "#here we show all the duplicated data regarding 'description', to examine how to deal with it. \n",
        "#duplicated_data= NT_df.loc[NT_df.duplicated(subset=[\"description\",\"type\"], keep=False), :]\n",
        "#duplicated_data.sort_values(\"description\", ascending=True, inplace=True)\n",
        "\n",
        "#first we change all the empty data to NaN\n",
        "NT_df = NT_df.replace(\"\", np.nan)\n",
        "\n",
        "#then we sort the data based on the added_date to keep the latest record \n",
        "NT_df.sort_values(\"date_added\", ascending=True, inplace=True)\n",
        "NT_df.drop_duplicates(subset=[\"description\"], keep=\"last\", inplace=True)\n",
        "NT_clean= NT_df.sort_values(by=[\"description\"], ascending=True)"
      ]
    },
    {
      "cell_type": "markdown",
      "metadata": {
        "id": "T7kAwExj2k3h"
      },
      "source": [
        "### 2. Handling null values"
      ]
    },
    {
      "cell_type": "code",
      "execution_count": 14,
      "metadata": {
        "id": "0VxMveLS2k3i",
        "outputId": "665de13e-eae2-49a5-ecf1-4ba72093e998",
        "colab": {
          "base_uri": "https://localhost:8080/"
        }
      },
      "outputs": [
        {
          "output_type": "execute_result",
          "data": {
            "text/plain": [
              "show_id            0\n",
              "type               0\n",
              "title              0\n",
              "director        2628\n",
              "cast             822\n",
              "country          822\n",
              "date_added        10\n",
              "release_year       0\n",
              "rating             4\n",
              "duration           3\n",
              "listed_in          0\n",
              "description        0\n",
              "dtype: int64"
            ]
          },
          "metadata": {},
          "execution_count": 14
        }
      ],
      "source": [
        "#here we figure out how many null values we have for each observations \n",
        "NT_df.isnull().sum()"
      ]
    },
    {
      "cell_type": "code",
      "source": [
        "#we use bar chart to visulaize and understand the null values for each observations \n",
        "msno.bar(NT_clean, figsize=(13,6), fontsize=13);\n",
        "plt.xticks(rotation=40);"
      ],
      "metadata": {
        "colab": {
          "base_uri": "https://localhost:8080/",
          "height": 471
        },
        "id": "-u2T2aGelq5d",
        "outputId": "76adda5e-c9aa-4162-99b9-1937d8192d19"
      },
      "execution_count": 15,
      "outputs": [
        {
          "output_type": "display_data",
          "data": {
            "text/plain": [
              "<Figure size 936x432 with 3 Axes>"
            ],
            "image/png": "[encoded data removed]"
          },
          "metadata": {
            "needs_background": "light"
          }
        }
      ]
    },
    {
      "cell_type": "markdown",
      "source": [
        "as we can see above most of the missing values fall under **director, cast** and **country** columns."
      ],
      "metadata": {
        "id": "vYdXRVKFCrHM"
      }
    },
    {
      "cell_type": "code",
      "source": [
        "#The below graph give us positional information of the missing values, and how the missing values are disrtibuted over the dataset\n",
        "msno.matrix(NT_clean, figsize=(13,6), fontsize=10.5);\n",
        "plt.xticks(rotation=90);"
      ],
      "metadata": {
        "colab": {
          "base_uri": "https://localhost:8080/",
          "height": 440
        },
        "id": "wEwi4CRI62sP",
        "outputId": "aeb401a0-9398-4118-daa8-e21577122989"
      },
      "execution_count": 16,
      "outputs": [
        {
          "output_type": "display_data",
          "data": {
            "text/plain": [
              "<Figure size 936x432 with 2 Axes>"
            ],
            "image/png": "[encoded data removed]"
          },
          "metadata": {
            "needs_background": "light"
          }
        }
      ]
    },
    {
      "cell_type": "code",
      "source": [
        "# the below heatmap reveals that how the missing data are related \n",
        "msno.heatmap(NT_clean[[\"director\",\"country\",\"cast\"]], figsize=(11,6), fontsize=13, cmap=\"hot\");"
      ],
      "metadata": {
        "colab": {
          "base_uri": "https://localhost:8080/",
          "height": 413
        },
        "id": "Udjj-Z3J9hGw",
        "outputId": "f0ae381c-3954-4283-8e00-9144b6ea9c90"
      },
      "execution_count": 17,
      "outputs": [
        {
          "output_type": "display_data",
          "data": {
            "text/plain": [
              "<Figure size 792x432 with 2 Axes>"
            ],
            "image/png": "[encoded data removed]"
          },
          "metadata": {
            "needs_background": "light"
          }
        }
      ]
    },
    {
      "cell_type": "markdown",
      "source": [
        "the above heatmap shows how the missing values are realted, as we can see the values are Missing Completely at Random (**MCAR**) which means there is not any correlation between the values. Therefore, based on these hypothesis we will fill the missing values as bellow:\n",
        "\n",
        "\n",
        "*   changing the values in **director**, **country** and **cast** to *UNKNOWN*.\n",
        "*   sorting the generes and filling these **rating** null values with either the previous record or the next record.\n",
        "*filling **duration** and **date_added** by taking median.\n",
        "\n"
      ],
      "metadata": {
        "id": "_fI0QXAQGmFd"
      }
    },
    {
      "cell_type": "code",
      "source": [
        "#the duration has been entered incorrectly in place of rating, therefore, before dealing with null values we will fix this problem\n",
        "null_values=NT_df.loc[NT_df.duration.isnull(), :] \n",
        "null_values"
      ],
      "metadata": {
        "colab": {
          "base_uri": "https://localhost:8080/",
          "height": 381
        },
        "id": "S1KcgnPO4yoW",
        "outputId": "fdab886c-5614-41cd-aba5-fee18041937a"
      },
      "execution_count": 18,
      "outputs": [
        {
          "output_type": "execute_result",
          "data": {
            "text/plain": [
              "     show_id   type                                 title    director  \\\n",
              "5541   s5542  Movie                       Louis C.K. 2017  Louis C.K.   \n",
              "5813   s5814  Movie  Louis C.K.: Live at the Comedy Store  Louis C.K.   \n",
              "5794   s5795  Movie                 Louis C.K.: Hilarious  Louis C.K.   \n",
              "\n",
              "            cast        country          date_added  release_year  rating  \\\n",
              "5541  Louis C.K.  United States       April 4, 2017          2017  74 min   \n",
              "5813  Louis C.K.  United States     August 15, 2016          2015  66 min   \n",
              "5794  Louis C.K.  United States  September 16, 2016          2010  84 min   \n",
              "\n",
              "     duration listed_in                                        description  \n",
              "5541      NaN    Movies  Louis C.K. muses on religion, eternal love, gi...  \n",
              "5813      NaN    Movies  The comic puts his trademark hilarious/thought...  \n",
              "5794      NaN    Movies  Emmy-winning comedy writer Louis C.K. brings h...  "
            ],
            "text/html": [
              "\n",
              "  <div id=\"df-22b3a31a-f7ff-40fa-9164-6f16d29363ac\">\n",
              "    <div class=\"colab-df-container\">\n",
              "      <div>\n",
              "<style scoped>\n",
              "    .dataframe tbody tr th:only-of-type {\n",
              "        vertical-align: middle;\n",
              "    }\n",
              "\n",
              "    .dataframe tbody tr th {\n",
              "        vertical-align: top;\n",
              "    }\n",
              "\n",
              "    .dataframe thead th {\n",
              "        text-align: right;\n",
              "    }\n",
              "</style>\n",
              "<table border=\"1\" class=\"dataframe\">\n",
              "  <thead>\n",
              "    <tr style=\"text-align: right;\">\n",
              "      <th></th>\n",
              "      <th>show_id</th>\n",
              "      <th>type</th>\n",
              "      <th>title</th>\n",
              "      <th>director</th>\n",
              "      <th>cast</th>\n",
              "      <th>country</th>\n",
              "      <th>date_added</th>\n",
              "      <th>release_year</th>\n",
              "      <th>rating</th>\n",
              "      <th>duration</th>\n",
              "      <th>listed_in</th>\n",
              "      <th>description</th>\n",
              "    </tr>\n",
              "  </thead>\n",
              "  <tbody>\n",
              "    <tr>\n",
              "      <th>5541</th>\n",
              "      <td>s5542</td>\n",
              "      <td>Movie</td>\n",
              "      <td>Louis C.K. 2017</td>\n",
              "      <td>Louis C.K.</td>\n",
              "      <td>Louis C.K.</td>\n",
              "      <td>United States</td>\n",
              "      <td>April 4, 2017</td>\n",
              "      <td>2017</td>\n",
              "      <td>74 min</td>\n",
              "      <td>NaN</td>\n",
              "      <td>Movies</td>\n",
              "      <td>Louis C.K. muses on religion, eternal love, gi...</td>\n",
              "    </tr>\n",
              "    <tr>\n",
              "      <th>5813</th>\n",
              "      <td>s5814</td>\n",
              "      <td>Movie</td>\n",
              "      <td>Louis C.K.: Live at the Comedy Store</td>\n",
              "      <td>Louis C.K.</td>\n",
              "      <td>Louis C.K.</td>\n",
              "      <td>United States</td>\n",
              "      <td>August 15, 2016</td>\n",
              "      <td>2015</td>\n",
              "      <td>66 min</td>\n",
              "      <td>NaN</td>\n",
              "      <td>Movies</td>\n",
              "      <td>The comic puts his trademark hilarious/thought...</td>\n",
              "    </tr>\n",
              "    <tr>\n",
              "      <th>5794</th>\n",
              "      <td>s5795</td>\n",
              "      <td>Movie</td>\n",
              "      <td>Louis C.K.: Hilarious</td>\n",
              "      <td>Louis C.K.</td>\n",
              "      <td>Louis C.K.</td>\n",
              "      <td>United States</td>\n",
              "      <td>September 16, 2016</td>\n",
              "      <td>2010</td>\n",
              "      <td>84 min</td>\n",
              "      <td>NaN</td>\n",
              "      <td>Movies</td>\n",
              "      <td>Emmy-winning comedy writer Louis C.K. brings h...</td>\n",
              "    </tr>\n",
              "  </tbody>\n",
              "</table>\n",
              "</div>\n",
              "      <button class=\"colab-df-convert\" onclick=\"convertToInteractive('df-22b3a31a-f7ff-40fa-9164-6f16d29363ac')\"\n",
              "              title=\"Convert this dataframe to an interactive table.\"\n",
              "              style=\"display:none;\">\n",
              "        \n",
              "  <svg xmlns=\"http://www.w3.org/2000/svg\" height=\"24px\"viewBox=\"0 0 24 24\"\n",
              "       width=\"24px\">\n",
              "    <path d=\"M0 0h24v24H0V0z\" fill=\"none\"/>\n",
              "    <path d=\"M18.56 5.44l.94 2.06.94-2.06 2.06-.94-2.06-.94-.94-2.06-.94 2.06-2.06.94zm-11 1L8.5 8.5l.94-2.06 2.06-.94-2.06-.94L8.5 2.5l-.94 2.06-2.06.94zm10 10l.94 2.06.94-2.06 2.06-.94-2.06-.94-.94-2.06-.94 2.06-2.06.94z\"/><path d=\"M17.41 7.96l-1.37-1.37c-.4-.4-.92-.59-1.43-.59-.52 0-1.04.2-1.43.59L10.3 9.45l-7.72 7.72c-.78.78-.78 2.05 0 2.83L4 21.41c.39.39.9.59 1.41.59.51 0 1.02-.2 1.41-.59l7.78-7.78 2.81-2.81c.8-.78.8-2.07 0-2.86zM5.41 20L4 18.59l7.72-7.72 1.47 1.35L5.41 20z\"/>\n",
              "  </svg>\n",
              "      </button>\n",
              "      \n",
              "  <style>\n",
              "    .colab-df-container {\n",
              "      display:flex;\n",
              "      flex-wrap:wrap;\n",
              "      gap: 12px;\n",
              "    }\n",
              "\n",
              "    .colab-df-convert {\n",
              "      background-color: #E8F0FE;\n",
              "      border: none;\n",
              "      border-radius: 50%;\n",
              "      cursor: pointer;\n",
              "      display: none;\n",
              "      fill: #1967D2;\n",
              "      height: 32px;\n",
              "      padding: 0 0 0 0;\n",
              "      width: 32px;\n",
              "    }\n",
              "\n",
              "    .colab-df-convert:hover {\n",
              "      background-color: #E2EBFA;\n",
              "      box-shadow: 0px 1px 2px rgba(60, 64, 67, 0.3), 0px 1px 3px 1px rgba(60, 64, 67, 0.15);\n",
              "      fill: #174EA6;\n",
              "    }\n",
              "\n",
              "    [theme=dark] .colab-df-convert {\n",
              "      background-color: #3B4455;\n",
              "      fill: #D2E3FC;\n",
              "    }\n",
              "\n",
              "    [theme=dark] .colab-df-convert:hover {\n",
              "      background-color: #434B5C;\n",
              "      box-shadow: 0px 1px 3px 1px rgba(0, 0, 0, 0.15);\n",
              "      filter: drop-shadow(0px 1px 2px rgba(0, 0, 0, 0.3));\n",
              "      fill: #FFFFFF;\n",
              "    }\n",
              "  </style>\n",
              "\n",
              "      <script>\n",
              "        const buttonEl =\n",
              "          document.querySelector('#df-22b3a31a-f7ff-40fa-9164-6f16d29363ac button.colab-df-convert');\n",
              "        buttonEl.style.display =\n",
              "          google.colab.kernel.accessAllowed ? 'block' : 'none';\n",
              "\n",
              "        async function convertToInteractive(key) {\n",
              "          const element = document.querySelector('#df-22b3a31a-f7ff-40fa-9164-6f16d29363ac');\n",
              "          const dataTable =\n",
              "            await google.colab.kernel.invokeFunction('convertToInteractive',\n",
              "                                                     [key], {});\n",
              "          if (!dataTable) return;\n",
              "\n",
              "          const docLinkHtml = 'Like what you see? Visit the ' +\n",
              "            '<a target=\"_blank\" href=https://colab.research.google.com/notebooks/data_table.ipynb>data table notebook</a>'\n",
              "            + ' to learn more about interactive tables.';\n",
              "          element.innerHTML = '';\n",
              "          dataTable['output_type'] = 'display_data';\n",
              "          await google.colab.output.renderOutput(dataTable, element);\n",
              "          const docLink = document.createElement('div');\n",
              "          docLink.innerHTML = docLinkHtml;\n",
              "          element.appendChild(docLink);\n",
              "        }\n",
              "      </script>\n",
              "    </div>\n",
              "  </div>\n",
              "  "
            ]
          },
          "metadata": {},
          "execution_count": 18
        }
      ]
    },
    {
      "cell_type": "code",
      "source": [
        "NT_df.at[5541,\"rating\"]= np.nan\n",
        "NT_df.at[5541,\"duration\"]= \"74 min\"\n",
        "NT_df.at[5794,\"rating\"]= np.nan\n",
        "NT_df.at[5794,\"duration\"]= \"84 min\"\n",
        "NT_df.at[5813,\"rating\"]= np.nan\n",
        "NT_df.at[5813,\"duration\"]= \"66 min\""
      ],
      "metadata": {
        "id": "r-eYXAPU5Rn7"
      },
      "execution_count": 19,
      "outputs": []
    },
    {
      "cell_type": "markdown",
      "source": [
        "as we can observe above we swaped the values for **rating** and **duration** so we can later on fill the null values proparly without any mistakes"
      ],
      "metadata": {
        "id": "n1_33Poa5XnM"
      }
    },
    {
      "cell_type": "code",
      "source": [
        "'''here we replace all the null values in country, director, cast and date_added to unknown because \n",
        "all of them are independable '''\n",
        "NT_clean.director.replace(np.nan, \"UNKNOWN\", inplace=True)\n",
        "NT_clean.country.replace(np.nan, \"UNKNOWN\", inplace=True)\n",
        "NT_clean.cast.replace(np.nan, \"UNKNOWN\", inplace=True)\n",
        "\n",
        "# for the rating we first sort the generes, and then use ffill method to fill the bull values\n",
        "NT_clean=NT_clean.sort_values(by=[\"listed_in\"], ascending=True)\n",
        "NT_clean[\"rating\"].fillna(method=\"ffill\", inplace=True)\n",
        "\n",
        "# for the date_added we specify the median, but we should first convert date_added which is string to date time\n",
        "NT_clean[\"date_added\"]= pd.to_datetime(NT_clean['date_added'])\n",
        "NT_clean[\"date_added\"].fillna(NT_clean[\"date_added\"].mode()[0], inplace=True)\n",
        "\n",
        "# for the duration also we will use median to fill the null values \n",
        "NT_clean[\"duration\"].fillna(NT_clean[\"duration\"].mode()[0], inplace=True)"
      ],
      "metadata": {
        "id": "cWnH3AJnKYkH"
      },
      "execution_count": 20,
      "outputs": []
    },
    {
      "cell_type": "code",
      "source": [
        "#checking wether null values are remaning or not\n",
        "NT_clean.isnull().sum()"
      ],
      "metadata": {
        "colab": {
          "base_uri": "https://localhost:8080/"
        },
        "id": "Bx526cs87Kgo",
        "outputId": "82a6b018-3b03-4d9e-895d-b2f15b8b4167"
      },
      "execution_count": 31,
      "outputs": [
        {
          "output_type": "execute_result",
          "data": {
            "text/plain": [
              "show_id         0\n",
              "type            0\n",
              "title           0\n",
              "director        0\n",
              "cast            0\n",
              "country         0\n",
              "date_added      0\n",
              "release_year    0\n",
              "rating          0\n",
              "duration        0\n",
              "listed_in       0\n",
              "description     0\n",
              "dtype: int64"
            ]
          },
          "metadata": {},
          "execution_count": 31
        }
      ]
    },
    {
      "cell_type": "markdown",
      "source": [
        "Now as we can see we our work with dealing with null values"
      ],
      "metadata": {
        "id": "AIpiHrre-H5Q"
      }
    },
    {
      "cell_type": "code",
      "source": [
        ""
      ],
      "metadata": {
        "id": "ChkKq-4F-b3r"
      },
      "execution_count": null,
      "outputs": []
    }
  ],
  "metadata": {
    "colab": {
      "collapsed_sections": [],
      "name": "Netflix_DAnalysis.ipynb",
      "provenance": [],
      "toc_visible": true,
      "include_colab_link": true
    },
    "kernelspec": {
      "display_name": "Python 3 (ipykernel)",
      "language": "python",
      "name": "python3"
    },
    "language_info": {
      "codemirror_mode": {
        "name": "ipython",
        "version": 3
      },
      "file_extension": ".py",
      "mimetype": "text/x-python",
      "name": "python",
      "nbconvert_exporter": "python",
      "pygments_lexer": "ipython3",
      "version": "3.9.7"
    }
  },
  "nbformat": 4,
  "nbformat_minor": 0
}